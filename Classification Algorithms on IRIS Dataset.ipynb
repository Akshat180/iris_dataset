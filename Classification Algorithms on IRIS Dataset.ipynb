{
 "cells": [
  {
   "cell_type": "markdown",
   "id": "805f88af",
   "metadata": {},
   "source": [
    "Importing the necessary libraries: numpy, pandas, train_test_split and accuracy_score from sklearn, and specific classifiers from sklearn such as svm, DecisionTreeClassifier, and GaussianNB"
   ]
  },
  {
   "cell_type": "code",
   "execution_count": 1,
   "id": "0a57c029",
   "metadata": {},
   "outputs": [],
   "source": [
    "import numpy as npy\n",
    "import pandas as pd\n",
    "from sklearn.model_selection import train_test_split\n",
    "from sklearn.metrics import accuracy_score\n",
    "from sklearn import datasets\n",
    "from sklearn import svm\n",
    "from sklearn.tree import DecisionTreeClassifier\n",
    "from sklearn.naive_bayes import GaussianNB"
   ]
  },
  {
   "cell_type": "markdown",
   "id": "9a1c131c",
   "metadata": {},
   "source": [
    "Importing the Iris dataset using the datasets.load_iris() function from sklearn.\n",
    "The dataset is then split into input features (X) and target labels (y)."
   ]
  },
  {
   "cell_type": "code",
   "execution_count": 2,
   "id": "bed824bf",
   "metadata": {},
   "outputs": [],
   "source": [
    "iris = datasets.load_iris()"
   ]
  },
  {
   "cell_type": "code",
   "execution_count": 26,
   "id": "58d9a012",
   "metadata": {},
   "outputs": [
    {
     "ename": "AttributeError",
     "evalue": "shape",
     "output_type": "error",
     "traceback": [
      "\u001b[1;31m---------------------------------------------------------------------------\u001b[0m",
      "\u001b[1;31mKeyError\u001b[0m                                  Traceback (most recent call last)",
      "File \u001b[1;32m~\\AppData\\Roaming\\Python\\Python311\\site-packages\\sklearn\\utils\\_bunch.py:35\u001b[0m, in \u001b[0;36mBunch.__getattr__\u001b[1;34m(self, key)\u001b[0m\n\u001b[0;32m     34\u001b[0m \u001b[38;5;28;01mtry\u001b[39;00m:\n\u001b[1;32m---> 35\u001b[0m     \u001b[38;5;28;01mreturn\u001b[39;00m \u001b[38;5;28;43mself\u001b[39;49m\u001b[43m[\u001b[49m\u001b[43mkey\u001b[49m\u001b[43m]\u001b[49m\n\u001b[0;32m     36\u001b[0m \u001b[38;5;28;01mexcept\u001b[39;00m \u001b[38;5;167;01mKeyError\u001b[39;00m:\n",
      "\u001b[1;31mKeyError\u001b[0m: 'shape'",
      "\nDuring handling of the above exception, another exception occurred:\n",
      "\u001b[1;31mAttributeError\u001b[0m                            Traceback (most recent call last)",
      "Cell \u001b[1;32mIn[26], line 1\u001b[0m\n\u001b[1;32m----> 1\u001b[0m \u001b[43miris\u001b[49m\u001b[38;5;241;43m.\u001b[39;49m\u001b[43mshape\u001b[49m\n",
      "File \u001b[1;32m~\\AppData\\Roaming\\Python\\Python311\\site-packages\\sklearn\\utils\\_bunch.py:37\u001b[0m, in \u001b[0;36mBunch.__getattr__\u001b[1;34m(self, key)\u001b[0m\n\u001b[0;32m     35\u001b[0m     \u001b[38;5;28;01mreturn\u001b[39;00m \u001b[38;5;28mself\u001b[39m[key]\n\u001b[0;32m     36\u001b[0m \u001b[38;5;28;01mexcept\u001b[39;00m \u001b[38;5;167;01mKeyError\u001b[39;00m:\n\u001b[1;32m---> 37\u001b[0m     \u001b[38;5;28;01mraise\u001b[39;00m \u001b[38;5;167;01mAttributeError\u001b[39;00m(key)\n",
      "\u001b[1;31mAttributeError\u001b[0m: shape"
     ]
    }
   ],
   "source": []
  },
  {
   "cell_type": "code",
   "execution_count": 3,
   "id": "1582c393",
   "metadata": {},
   "outputs": [
    {
     "data": {
      "text/plain": [
       "dict_keys(['data', 'target', 'frame', 'target_names', 'DESCR', 'feature_names', 'filename', 'data_module'])"
      ]
     },
     "execution_count": 3,
     "metadata": {},
     "output_type": "execute_result"
    }
   ],
   "source": [
    "iris.keys()"
   ]
  },
  {
   "cell_type": "code",
   "execution_count": 4,
   "id": "f6972f8d",
   "metadata": {},
   "outputs": [
    {
     "data": {
      "text/plain": [
       "(150, 4)"
      ]
     },
     "execution_count": 4,
     "metadata": {},
     "output_type": "execute_result"
    }
   ],
   "source": [
    "X = iris.data\n",
    "X.shape"
   ]
  },
  {
   "cell_type": "code",
   "execution_count": 5,
   "id": "b1ca5cd5",
   "metadata": {},
   "outputs": [
    {
     "data": {
      "text/plain": [
       "array([0, 0, 0, 0, 0, 0, 0, 0, 0, 0, 0, 0, 0, 0, 0, 0, 0, 0, 0, 0, 0, 0,\n",
       "       0, 0, 0, 0, 0, 0, 0, 0, 0, 0, 0, 0, 0, 0, 0, 0, 0, 0, 0, 0, 0, 0,\n",
       "       0, 0, 0, 0, 0, 0, 1, 1, 1, 1, 1, 1, 1, 1, 1, 1, 1, 1, 1, 1, 1, 1,\n",
       "       1, 1, 1, 1, 1, 1, 1, 1, 1, 1, 1, 1, 1, 1, 1, 1, 1, 1, 1, 1, 1, 1,\n",
       "       1, 1, 1, 1, 1, 1, 1, 1, 1, 1, 1, 1, 2, 2, 2, 2, 2, 2, 2, 2, 2, 2,\n",
       "       2, 2, 2, 2, 2, 2, 2, 2, 2, 2, 2, 2, 2, 2, 2, 2, 2, 2, 2, 2, 2, 2,\n",
       "       2, 2, 2, 2, 2, 2, 2, 2, 2, 2, 2, 2, 2, 2, 2, 2, 2, 2])"
      ]
     },
     "execution_count": 5,
     "metadata": {},
     "output_type": "execute_result"
    }
   ],
   "source": [
    "Y = iris.target\n",
    "Y"
   ]
  },
  {
   "cell_type": "markdown",
   "id": "c1896ee6",
   "metadata": {},
   "source": [
    "The code splits the dataset into training and testing sets using the train_test_split() function from sklearn. The training set is used to train the models, and the testing set is used to evaluate their performance."
   ]
  },
  {
   "cell_type": "code",
   "execution_count": 6,
   "id": "bdfdaf28",
   "metadata": {},
   "outputs": [],
   "source": [
    "x_train, x_test, y_train, y_test = train_test_split(X, Y, test_size = 0.3, random_state = 1)"
   ]
  },
  {
   "cell_type": "code",
   "execution_count": 7,
   "id": "71345007",
   "metadata": {},
   "outputs": [
    {
     "data": {
      "text/plain": [
       "(105, 4)"
      ]
     },
     "execution_count": 7,
     "metadata": {},
     "output_type": "execute_result"
    }
   ],
   "source": [
    "x_train.shape"
   ]
  },
  {
   "cell_type": "code",
   "execution_count": 8,
   "id": "b4b29814",
   "metadata": {},
   "outputs": [
    {
     "data": {
      "text/plain": [
       "(45, 4)"
      ]
     },
     "execution_count": 8,
     "metadata": {},
     "output_type": "execute_result"
    }
   ],
   "source": [
    "x_test.shape"
   ]
  },
  {
   "cell_type": "code",
   "execution_count": null,
   "id": "e654d934",
   "metadata": {},
   "outputs": [],
   "source": [
    "y_train.shape"
   ]
  },
  {
   "cell_type": "code",
   "execution_count": null,
   "id": "4fd8869c",
   "metadata": {},
   "outputs": [],
   "source": [
    "y_test.shape"
   ]
  },
  {
   "cell_type": "markdown",
   "id": "685ee907",
   "metadata": {},
   "source": [
    "### Decision Tree Classifier\n",
    "It does the same for the Decision Tree Classifier and Support Vector Machine. The Decision Tree Classifier is instantiated with DecisionTreeClassifier() and trained with dt.fit(X_train, y_train), while the Support Vector Machine is instantiated with svm.SVC(kernel='linear') and trained with svm_clf.fit(X_train, y_train)."
   ]
  },
  {
   "cell_type": "code",
   "execution_count": null,
   "id": "b0fa012f",
   "metadata": {},
   "outputs": [],
   "source": [
    "dtc = DecisionTreeClassifier(random_state = 0)\n",
    "dtc"
   ]
  },
  {
   "cell_type": "code",
   "execution_count": null,
   "id": "3c69c846",
   "metadata": {},
   "outputs": [],
   "source": [
    "dtc.fit(x_train, y_train)"
   ]
  },
  {
   "cell_type": "code",
   "execution_count": null,
   "id": "cbcad05e",
   "metadata": {},
   "outputs": [],
   "source": [
    "dtc_prediction = dtc.predict(x_test)\n",
    "dtc_prediction"
   ]
  },
  {
   "cell_type": "code",
   "execution_count": null,
   "id": "b34e4e1d",
   "metadata": {},
   "outputs": [],
   "source": [
    "dtc_prediction.shape"
   ]
  },
  {
   "cell_type": "code",
   "execution_count": null,
   "id": "cf532d7e",
   "metadata": {},
   "outputs": [],
   "source": [
    "accuracy_score(dtc_prediction, y_test)"
   ]
  },
  {
   "cell_type": "markdown",
   "id": "2c2d3f7e",
   "metadata": {},
   "source": [
    "### Support Vector Machine"
   ]
  },
  {
   "cell_type": "code",
   "execution_count": null,
   "id": "97ea96ba",
   "metadata": {},
   "outputs": [],
   "source": [
    "# Support Vector Machine using linear kernel function\n",
    "svm_class = svm.SVC(kernel = 'linear')\n",
    "svm_class"
   ]
  },
  {
   "cell_type": "code",
   "execution_count": null,
   "id": "69cce005",
   "metadata": {},
   "outputs": [],
   "source": [
    "svm_class.fit(x_train, y_train)"
   ]
  },
  {
   "cell_type": "code",
   "execution_count": null,
   "id": "29747912",
   "metadata": {},
   "outputs": [],
   "source": [
    "svm_class_predict = svm_class.predict(x_test)\n",
    "svm_class_predict"
   ]
  },
  {
   "cell_type": "code",
   "execution_count": null,
   "id": "d249c9a6",
   "metadata": {},
   "outputs": [],
   "source": [
    "accuracy_score(svm_class_predict, y_test)"
   ]
  },
  {
   "cell_type": "code",
   "execution_count": null,
   "id": "3b5f173c",
   "metadata": {},
   "outputs": [],
   "source": [
    "# Support Vector Machine using Polynomial Function Kernel\n",
    "svm_class1 = svm.SVC(kernel= 'poly')\n",
    "svm_class1.fit(x_train, y_train)"
   ]
  },
  {
   "cell_type": "code",
   "execution_count": null,
   "id": "7cdd1b15",
   "metadata": {},
   "outputs": [],
   "source": [
    "svm_class_predict1 = svm_class1.predict(x_test)\n",
    "svm_class_predict1"
   ]
  },
  {
   "cell_type": "code",
   "execution_count": null,
   "id": "bf342c47",
   "metadata": {},
   "outputs": [],
   "source": [
    "accuracy_score(svm_class_predict1, y_test)"
   ]
  },
  {
   "cell_type": "code",
   "execution_count": null,
   "id": "f51c00af",
   "metadata": {},
   "outputs": [],
   "source": [
    "# Support Vector Machine using Radial Basis Function Kernel\n",
    "svm_class2 = svm.SVC(kernel = 'rbf')\n",
    "svm_class2.fit(x_train, y_train)"
   ]
  },
  {
   "cell_type": "code",
   "execution_count": null,
   "id": "6a3572ac",
   "metadata": {},
   "outputs": [],
   "source": [
    "svm_class_predict2 = svm_class2.predict(x_test)\n",
    "svm_class_predict2"
   ]
  },
  {
   "cell_type": "code",
   "execution_count": null,
   "id": "c62dd0ae",
   "metadata": {},
   "outputs": [],
   "source": [
    "accuracy_score(svm_class_predict2, y_test)"
   ]
  },
  {
   "cell_type": "markdown",
   "id": "537a062d",
   "metadata": {},
   "source": [
    "### Gaussian Naive Bayes classifier\n",
    "It creates an instance of the Gaussian Naive Bayes classifier (GaussianNB()), trains the model using the training data (gnb.fit(X_train, y_train)), makes predictions on the testing data (gnb.predict(X_test)), and calculates the accuracy of the predictions using the accuracy_score() function."
   ]
  },
  {
   "cell_type": "code",
   "execution_count": null,
   "id": "498e5cfa",
   "metadata": {},
   "outputs": [],
   "source": [
    "gnb = GaussianNB()\n",
    "gnb"
   ]
  },
  {
   "cell_type": "code",
   "execution_count": null,
   "id": "8df562d2",
   "metadata": {},
   "outputs": [],
   "source": [
    "gnb.fit(x_train, y_train)"
   ]
  },
  {
   "cell_type": "code",
   "execution_count": null,
   "id": "e9526cec",
   "metadata": {},
   "outputs": [],
   "source": [
    "gnb_predict_gg = gnb.predict(x_test)\n",
    "gnb_predict_gg"
   ]
  },
  {
   "cell_type": "code",
   "execution_count": null,
   "id": "84895ff3",
   "metadata": {},
   "outputs": [],
   "source": [
    "accuracy_score(y_test, gnb_predict_gg)"
   ]
  },
  {
   "cell_type": "markdown",
   "id": "dafa87bc",
   "metadata": {},
   "source": [
    "Different classifiers have varying levels of dependence on the data based on their underlying assumptions and algorithmic principles. Let's discuss how the given classifiers (Gaussian Naive Bayes, Decision Tree Classifier, and Support Vector Machine) are dependent on the data.\n",
    "\n",
    "#### 1. Gaussian Naive Bayes:\n",
    "Gaussian Naive Bayes is a probabilistic classifier that assumes the features are conditionally independent given the class label. This assumption means that the presence of one feature does not affect the presence of another feature. In the case of the Iris dataset, Gaussian Naive Bayes assumes that the measurements of sepal length, sepal width, petal length, and petal width are independent of each other, given the class label.\n",
    "\n",
    "The dependence of Gaussian Naive Bayes on the data lies in the accuracy of this assumption. If the features are indeed conditionally independent given the class label, Gaussian Naive Bayes can perform well. However, if there are dependencies or correlations among the features, this assumption may not hold, and the classifier's performance may be affected.\n",
    "\n",
    "#### 2. Decision Tree Classifier:\n",
    "Decision Tree Classifier builds a tree-like model by recursively splitting the data based on certain conditions. The dependence of the Decision Tree Classifier on the data is through the patterns and relationships present in the dataset. The algorithm determines the best split points and conditions based on features' values to create decision rules that classify the data.\n",
    "\n",
    "The performance of the Decision Tree Classifier depends on the data's characteristics, such as the presence of non-linear relationships or interactions between features. If the dataset exhibits clear and separable patterns, the Decision Tree Classifier can effectively capture those patterns and achieve high accuracy. However, if the data has overlapping or complex patterns, the decision tree may struggle to accurately model the underlying relationships, leading to lower accuracy.\n",
    "\n",
    "#### 3. Support Vector Machine (SVM):\n",
    "Support Vector Machine is a powerful algorithm that finds a hyperplane to separate data points belonging to different classes. SVM's dependence on the data lies in finding the optimal hyperplane that maximizes the margin between the classes.\n",
    "\n",
    "The performance of SVM depends on the data's separability and the margin between classes. If the data is linearly separable, SVM can find an optimal hyperplane to separate the classes with a high accuracy score. However, if the data is not linearly separable, SVM relies on the kernel trick, which maps the data into a higher-dimensional space where separation is possible. The choice of the kernel function can greatly impact SVM's performance, making it more dependent on the data characteristics.\n",
    "\n",
    "In summary, the dependence of classifiers on the data lies in their assumptions and algorithmic principles. The accuracy and performance of each classifier are influenced by the underlying patterns, relationships, and separability present in the data. It is essential to understand the dataset's characteristics and consider the strengths and weaknesses of each classifier when selecting an appropriate model."
   ]
  },
  {
   "cell_type": "markdown",
   "id": "86ef6f2a",
   "metadata": {},
   "source": [
    "## Decision Tree Classifier\n",
    "\n",
    "The Decision Tree Classifier is a supervised learning algorithm that builds a tree-like model of decisions and their potential consequences. Each internal node of the tree represents a decision based on a specific feature, and each leaf node represents a class label or a decision outcome. Let's discuss how the Decision Tree Classifier works in detail with respect to the given Iris dataset and how its accuracy is dependent on the data and its patterns.\n",
    "\n",
    "##### 1. Data Preparation:\n",
    "In the given code, the Iris dataset is loaded, and the input features (sepal length, sepal width, petal length, and petal width) are stored in the variable `X`, while the target labels (setosa, versicolor, and virginica) are stored in the variable `y`.\n",
    "\n",
    "##### 2. Building the Decision Tree:\n",
    "The Decision Tree Classifier constructs the tree by recursively partitioning the data based on feature values. It selects the feature that provides the best split or separation between the classes at each node. The splitting process continues until a stopping criterion is met, such as reaching a maximum tree depth or when further splits do not improve the classification significantly.\n",
    "\n",
    "##### 3. Splitting Criteria:\n",
    "The Decision Tree Classifier uses various splitting criteria to determine the best feature and threshold to split the data. Common splitting criteria include Gini impurity and information gain (entropy). These criteria evaluate the homogeneity of classes within each split. The goal is to minimize impurity or maximize information gain to achieve more homogeneous subsets of data at each node.\n",
    "\n",
    "##### 4. Tree Pruning:\n",
    "Decision trees have a tendency to overfit the training data, meaning they can capture noise and specific details that do not generalize well to unseen data. To mitigate overfitting, a technique called pruning is often applied. Pruning involves removing unnecessary branches or nodes from the tree to improve its generalization ability.\n",
    "\n",
    "##### 5. Prediction:\n",
    "Once the Decision Tree is constructed, it can be used for prediction. Given a set of input features, the Decision Tree Classifier follows the path from the root node to a leaf node, making decisions based on the feature values at each node. The predicted class label is determined by the majority class in the leaf node.\n",
    "\n",
    "##### 6. Dependence on Data and Patterns:\n",
    "The accuracy of the Decision Tree Classifier is dependent on the characteristics and patterns present in the data. Here are some key aspects:\n",
    "   a. Feature Importance: The Decision Tree Classifier considers the importance of different features by evaluating their splitting capability. If certain features have more discriminative power in separating the classes, the Decision Tree Classifier can achieve higher accuracy.\n",
    "\n",
    "   b. Non-linear Relationships: Decision trees can capture non-linear relationships between features and target labels. If the Iris dataset exhibits non-linear patterns, the Decision Tree Classifier can model these relationships effectively and achieve high accuracy.\n",
    "\n",
    "   c. Overfitting: Decision trees are prone to overfitting when they memorize the training data instead of capturing the underlying patterns. Overfitting can lead to high accuracy on the training set but poor generalization on unseen data. Pruning techniques, such as setting a maximum tree depth or using minimum sample requirements at leaf nodes, help prevent overfitting and improve the model's accuracy on new data.\n",
    "\n",
    "   d. Data Balance and Variability: The accuracy of the Decision Tree Classifier can be influenced by the class distribution and the variability of the data. If the classes are imbalanced or the data is highly variable, it may affect the model's ability to accurately represent the minority class or handle noisy data.\n",
    "\n",
    "In summary, the accuracy of the Decision Tree Classifier is dependent on the data's patterns, feature importance, non-linear relationships, overfitting, and data characteristics such as balance and variability. By effectively capturing the underlying patterns and avoiding overfitting, the Decision Tree Classifier can achieve high accuracy on the Iris dataset. However, it's important to consider the limitations of decision trees, such as their tendency to overfit and their sensitivity to noise, when interpreting the accuracy results and evaluating the model's performance."
   ]
  },
  {
   "cell_type": "markdown",
   "id": "d7f45696",
   "metadata": {},
   "source": [
    "## Support Vector Machine\n",
    "Support Vector Machine (SVM) is a powerful supervised learning algorithm used for classification and regression tasks. SVM aims to find an optimal hyperplane in a high-dimensional feature space that maximally separates data points belonging to different classes. Let's discuss how SVM works in detail with respect to the given Iris dataset and how its accuracy is dependent on the data and its patterns.\n",
    "\n",
    "##### 1. Data Preparation:\n",
    "In the given code, the Iris dataset is loaded, and the input features (sepal length, sepal width, petal length, and petal width) are stored in the variable `X`, while the target labels (setosa, versicolor, and virginica) are stored in the variable `y`.\n",
    "\n",
    "###### 2. Hyperplane and Margin:\n",
    "SVM operates by finding an optimal hyperplane that separates the data points of different classes. In the case of the Iris dataset, SVM aims to find a hyperplane that can separate the different species of Iris flowers based on their feature measurements.\n",
    "\n",
    "The hyperplane is a decision boundary that divides the feature space into separate regions, with each region corresponding to a different class. SVM seeks to find the hyperplane that maximizes the margin, which is the distance between the hyperplane and the nearest data points of each class. By maximizing the margin, SVM aims to achieve better generalization and robustness to new data.\n",
    "\n",
    "##### 3. Kernel Trick and Non-linear Separability:\n",
    "In some cases, the data may not be linearly separable, meaning a hyperplane cannot perfectly separate the classes. To address this, SVM utilizes the kernel trick. The kernel function transforms the input features into a higher-dimensional feature space where linear separation may be possible.\n",
    "\n",
    "The choice of the kernel function greatly affects SVM's performance and its ability to capture complex patterns in the data. Commonly used kernel functions include linear, polynomial, and radial basis function (RBF). In the given code, SVM is instantiated with `svm.SVC(kernel='linear')`, indicating a linear kernel. This means SVM seeks a linear hyperplane to separate the Iris dataset based on the input features.\n",
    "\n",
    "##### 4. Dependence on Data and Patterns:\n",
    "The accuracy of SVM is dependent on the characteristics and patterns present in the data. Here are some key aspects:\n",
    "\n",
    "   a. Separability: SVM performs best when the data points are well-separated. If the classes in the Iris dataset can be clearly separated by a linear hyperplane or a linear transformation using a kernel function, SVM has a higher chance of achieving high accuracy.\n",
    "\n",
    "   b. Margin and Overlapping: The margin between the classes plays a crucial role in SVM's accuracy. If there is a larger margin between the classes, it implies better separability, and SVM can achieve higher accuracy. However, if there is significant overlap between the classes or the margin is small, SVM may struggle to separate the data accurately and may have lower accuracy.\n",
    "\n",
    "   c. Outliers: SVM is sensitive to outliers as they can affect the placement of the hyperplane and the margin. Outliers that are far away from the majority of the data can have a significant impact on the accuracy of SVM. Preprocessing or handling outliers appropriately can help improve SVM's performance.\n",
    "\n",
    "   d. Choice of Kernel: The choice of kernel function is crucial to capture non-linear patterns in the data. If the data exhibits non-linear relationships or interactions between features, using an appropriate kernel function (e.g., polynomial or RBF) can improve SVM's accuracy by mapping the data to a higher-dimensional space where linear separation is possible.\n",
    "\n",
    "In summary, the accuracy of SVM is dependent on the data's separability, patterns, margin, and the choice of kernel function. SVM performs best when the data is well-separated and has a larger margin between the classes. It can accurately classify the Iris dataset if the classes can be linearly separated or transformed into a higher-dimensional space using an appropriate kernel function. However, if the data exhibits significant overlap or non-linear relationships, SVM's accuracy may be compromised, and alternative approaches or more sophisticated models may be necessary.\n",
    "\n",
    "<br>\n",
    "In the given code, the choice of kernel for the Support Vector Machine (SVM) is 'linear'. \n",
    "The line of code \n",
    "\n",
    "```python\n",
    "svm_clf = svm.SVC(kernel='linear')\n",
    "```\n",
    "instantiates an SVM classifier with a linear kernel.\n",
    "\n",
    "A linear kernel assumes that the data is linearly separable in the input feature space. It works well when the classes can be separated by a linear decision boundary, such as a straight line in two-dimensional space or a hyperplane in higher-dimensional space.\n",
    "\n",
    "For the Iris dataset, the classes (setosa, versicolor, and virginica) may not be perfectly separable by a linear decision boundary, especially if we consider all four input features. The dataset exhibits some overlap between the classes, particularly between versicolor and virginica.\n",
    "\n",
    "While the choice of a linear kernel may not be the best option to capture the non-linear patterns present in the Iris dataset, it can still provide some level of separation if the data has some degree of linear separability.\n",
    "\n",
    "To improve the accuracy of SVM on the Iris dataset, you can consider using a non-linear kernel such as the radial basis function (RBF) kernel, which is a popular choice. The RBF kernel can capture more complex patterns and non-linear relationships in the data. To use the RBF kernel, you can modify the code as follows:\n",
    "\n",
    "```python\n",
    "svm_clf = svm.SVC(kernel='rbf')\n",
    "```\n",
    "\n",
    "By changing the kernel to 'rbf', the SVM classifier will use the RBF kernel instead of the linear kernel. This can potentially improve the accuracy of the SVM classifier on the Iris dataset, as it can better handle the non-linear separability of the classes.\n",
    "\n",
    "It's important to note that the choice of kernel depends on the specific dataset and the nature of the underlying patterns. It's often a good practice to try different kernel functions and evaluate their performance to select the one that yields the best accuracy or other relevant performance metrics for a particular dataset."
   ]
  },
  {
   "cell_type": "markdown",
   "id": "ed9f6c80",
   "metadata": {},
   "source": [
    "## Gaussian Naive Bayes\n",
    "\n",
    "Gaussian Naive Bayes is a probabilistic classifier that makes predictions based on the Bayes' theorem and the assumption of feature independence given the class label. Let's discuss how Gaussian Naive Bayes works in detail with respect to the given Iris dataset and how its accuracy is dependent on the data and its patterns.\n",
    "\n",
    "##### 1. Data Preparation:\n",
    "In the given code, the Iris dataset is loaded, and the input features (sepal length, sepal width, petal length, and petal width) are stored in the variable `X`, while the target labels (setosa, versicolor, and virginica) are stored in the variable `y`.\n",
    "\n",
    "##### 2. Assumption of Feature Independence:\n",
    "Gaussian Naive Bayes assumes that the input features are conditionally independent given the class label. This means that the presence or value of one feature does not affect the presence or value of another feature. In the case of the Iris dataset, Gaussian Naive Bayes assumes that the measurements of sepal length, sepal width, petal length, and petal width are independent of each other, given the class label.\n",
    "\n",
    "##### 3. Probability Estimation:\n",
    "Gaussian Naive Bayes calculates the probabilities of each class given the input features using the Bayes' theorem. The probability of a particular class is calculated as the prior probability of that class multiplied by the likelihood of the observed feature values given that class.\n",
    "\n",
    "For example, given a set of feature values (sepal length, sepal width, petal length, petal width), Gaussian Naive Bayes calculates the conditional probability of each class (setosa, versicolor, virginica) based on the observed feature values.\n",
    "\n",
    "##### 4. Gaussian Distribution:\n",
    "Gaussian Naive Bayes assumes that the likelihood of each feature given the class follows a Gaussian (normal) distribution. This assumption means that the feature values within each class are normally distributed.\n",
    "\n",
    "For the Iris dataset, Gaussian Naive Bayes calculates the mean and standard deviation of each feature within each class. These statistics are then used to estimate the probability density function of the feature values given each class, assuming a Gaussian distribution.\n",
    "\n",
    "##### 5. Prediction:\n",
    "Once the probabilities are calculated for each class given the input features, Gaussian Naive Bayes predicts the class with the highest probability as the final prediction.\n",
    "\n",
    "##### 6. Dependence on Data and Patterns:\n",
    "The accuracy of Gaussian Naive Bayes is dependent on the characteristics and patterns present in the data. Here are some key aspects:\n",
    "\n",
    "   a. Independence Assumption: The accuracy of Gaussian Naive Bayes heavily relies on the assumption of feature independence given the class label. If the assumption holds true for the Iris dataset, Gaussian Naive Bayes can accurately estimate the probabilities of each class and make accurate predictions. However, if there are dependencies or correlations among the features, this assumption may not hold, and the classifier's accuracy may be compromised.\n",
    "\n",
    "   b. Distribution Assumption: Gaussian Naive Bayes assumes that the feature values within each class follow a Gaussian distribution. If the feature distributions within each class are close to Gaussian, Gaussian Naive Bayes can accurately estimate the likelihoods and make accurate predictions. However, if the feature distributions deviate significantly from Gaussian, the classifier's accuracy may be affected.\n",
    "\n",
    "   c. Outliers: Gaussian Naive Bayes is sensitive to outliers since it relies on calculating mean and standard deviation. Outliers can significantly affect the estimated statistics and subsequently impact the classifier's accuracy. It's important to preprocess the data and handle outliers appropriately to improve accuracy.\n",
    "\n",
    "   d. Imbalanced Classes: If the classes in the Iris dataset are imbalanced, meaning one or more classes have significantly fewer instances than others, it can affect the accuracy of Gaussian Naive Bayes. The classifier may be biased towards the majority class and have lower accuracy on the minority class.\n",
    "\n",
    "In summary, the accuracy of Gaussian Naive Bayes is dependent on the assumption of feature independence, the distribution of feature values within each class, the presence of outliers, and the balance of classes. By accurately estimating probabilities and assuming feature independence, Gaussian Naive Bayes can achieve high accuracy on the Iris dataset if the underlying patterns align with its assumptions. However, it's important to evaluate the assumptions and consider the limitations of the classifier when interpreting accuracy results."
   ]
  },
  {
   "cell_type": "markdown",
   "id": "8b79a80e",
   "metadata": {},
   "source": [
    "## Understanding Accuracy Score\n",
    "\n",
    "Based on the accuracy scores provided, the Support Vector Machine (SVM) classifier gives the best fit model for the Iris dataset. The accuracy score for the SVM classifier is 1.0, indicating that it correctly predicted all instances in the test set.\n",
    "\n",
    "On the other hand, the Gaussian Naive Bayes classifier achieved an accuracy score of 0.9333333333333333, and the Decision Tree Classifier achieved an accuracy score of 0.9555555555555556. While both classifiers have high accuracy scores, the SVM classifier achieved a perfect score, indicating that it provided the best fit model for the Iris dataset in terms of accuracy.\n",
    "\n",
    "It's important to note that accuracy alone may not be the only metric to consider when evaluating classifier performance. Depending on the specific problem and requirements, other metrics such as precision, recall, or F1 score may provide a more comprehensive evaluation of the classifiers' performance. Additionally, it's recommended to perform further evaluation and validation techniques, such as cross-validation or assessing the models on unseen data, to ensure the chosen classifier's robustness and generalization ability."
   ]
  },
  {
   "cell_type": "code",
   "execution_count": 12,
   "id": "076ad160",
   "metadata": {},
   "outputs": [],
   "source": [
    "from sklearn.datasets import make_blobs as mb\n",
    "import numpy as np\n",
    "import matplotlib.pyplot as plt"
   ]
  },
  {
   "cell_type": "code",
   "execution_count": 27,
   "id": "7e0a462a",
   "metadata": {},
   "outputs": [
    {
     "data": {
      "image/png": "[encoded data removed]",
      "text/plain": [
       "<Figure size 640x480 with 1 Axes>"
      ]
     },
     "metadata": {},
     "output_type": "display_data"
    }
   ],
   "source": [
    "X, Y = mb(n_samples = 150, n_features = 4, centers = 5, random_state = 10)\n",
    "fig = plt.figure(0)\n",
    "plt.grid(True)\n",
    "plt.scatter(X[:,0],X[:,1])\n",
    "x=X\n",
    "y=Y"
   ]
  },
  {
   "cell_type": "code",
   "execution_count": 28,
   "id": "edef3018",
   "metadata": {},
   "outputs": [
    {
     "name": "stdout",
     "output_type": "stream",
     "text": [
      "{0: {'center': array([ 0.43718189,  0.73667919, -1.14172048,  0.27605723]), 'points': []}}\n",
      "\n",
      "{0: {'center': array([ 0.43718189,  0.73667919, -1.14172048,  0.27605723]), 'points': []}}\n",
      "{0: {'center': array([ 0.43718189,  0.73667919, -1.14172048,  0.27605723]), 'points': []}, 1: {'center': array([-1.2760757 , -1.28764332,  1.83993887, -0.5789573 ]), 'points': []}}\n",
      "\n",
      "{0: {'center': array([ 0.43718189,  0.73667919, -1.14172048,  0.27605723]), 'points': []}, 1: {'center': array([-1.2760757 , -1.28764332,  1.83993887, -0.5789573 ]), 'points': []}}\n",
      "{0: {'center': array([ 0.43718189,  0.73667919, -1.14172048,  0.27605723]), 'points': []}, 1: {'center': array([-1.2760757 , -1.28764332,  1.83993887, -0.5789573 ]), 'points': []}, 2: {'center': array([-1.66302232,  0.27020019,  1.71374846, -0.76474772]), 'points': []}}\n",
      "\n",
      "{0: {'center': array([ 0.43718189,  0.73667919, -1.14172048,  0.27605723]), 'points': []}, 1: {'center': array([-1.2760757 , -1.28764332,  1.83993887, -0.5789573 ]), 'points': []}, 2: {'center': array([-1.66302232,  0.27020019,  1.71374846, -0.76474772]), 'points': []}}\n",
      "{0: {'center': array([ 0.43718189,  0.73667919, -1.14172048,  0.27605723]), 'points': []}, 1: {'center': array([-1.2760757 , -1.28764332,  1.83993887, -0.5789573 ]), 'points': []}, 2: {'center': array([-1.66302232,  0.27020019,  1.71374846, -0.76474772]), 'points': []}, 3: {'center': array([-1.85356342,  0.12647602,  0.87500113,  0.0559833 ]), 'points': []}}\n",
      "\n",
      "{0: {'center': array([ 0.43718189,  0.73667919, -1.14172048,  0.27605723]), 'points': []}, 1: {'center': array([-1.2760757 , -1.28764332,  1.83993887, -0.5789573 ]), 'points': []}, 2: {'center': array([-1.66302232,  0.27020019,  1.71374846, -0.76474772]), 'points': []}, 3: {'center': array([-1.85356342,  0.12647602,  0.87500113,  0.0559833 ]), 'points': []}}\n",
      "{0: {'center': array([ 0.43718189,  0.73667919, -1.14172048,  0.27605723]), 'points': []}, 1: {'center': array([-1.2760757 , -1.28764332,  1.83993887, -0.5789573 ]), 'points': []}, 2: {'center': array([-1.66302232,  0.27020019,  1.71374846, -0.76474772]), 'points': []}, 3: {'center': array([-1.85356342,  0.12647602,  0.87500113,  0.0559833 ]), 'points': []}, 4: {'center': array([ 0.25657366,  1.22353361,  0.65433197, -0.6079561 ]), 'points': []}}\n",
      "\n",
      "{0: {'center': array([ 0.43718189,  0.73667919, -1.14172048,  0.27605723]), 'points': []}, 1: {'center': array([-1.2760757 , -1.28764332,  1.83993887, -0.5789573 ]), 'points': []}, 2: {'center': array([-1.66302232,  0.27020019,  1.71374846, -0.76474772]), 'points': []}, 3: {'center': array([-1.85356342,  0.12647602,  0.87500113,  0.0559833 ]), 'points': []}, 4: {'center': array([ 0.25657366,  1.22353361,  0.65433197, -0.6079561 ]), 'points': []}}\n"
     ]
    }
   ],
   "source": [
    "k = 5\n",
    "clusters = {}\n",
    "for idx in range(k):\n",
    "    center = 2*(2*np.random.random((x.shape[1],))-1)\n",
    "    points = []\n",
    "    cluster = {\n",
    "        'center':center,\n",
    "        'points':[]\n",
    "    }\n",
    "    clusters[idx] =cluster\n",
    "    print(clusters)\n",
    "    print()\n",
    "    print(clusters)"
   ]
  },
  {
   "cell_type": "code",
   "execution_count": 29,
   "id": "7c4eedc6",
   "metadata": {},
   "outputs": [
    {
     "data": {
      "image/png": "[encoded data removed]",
      "text/plain": [
       "<Figure size 640x480 with 1 Axes>"
      ]
     },
     "metadata": {},
     "output_type": "display_data"
    }
   ],
   "source": [
    "plt.scatter(x[:,0],x[:,1])\n",
    "plt.grid(True)\n",
    "for i in clusters:\n",
    "    center = clusters[i]['center']\n",
    "    plt.scatter(center[0],center[1],marker = '*',c= 'red')\n",
    "plt.show()"
   ]
  },
  {
   "cell_type": "code",
   "execution_count": 30,
   "id": "57da770e",
   "metadata": {},
   "outputs": [],
   "source": [
    "# Eculidean distance\n",
    "def distance(p1,p2):\n",
    "    return np.sqrt(np.sum((p1-p2)**2))"
   ]
  },
  {
   "cell_type": "code",
   "execution_count": 31,
   "id": "d2529899",
   "metadata": {},
   "outputs": [],
   "source": [
    "def assign_clusters(x,clusters):\n",
    "    for idx in range(x.shape[0]):\n",
    "        dist = []\n",
    "        curr_x = x[idx]\n",
    "        for i in range(k):\n",
    "            dis = distance(curr_x,clusters[i]['center'])\n",
    "            dist.append(dis)\n",
    "            curr_cluster = np.argmin(dist)\n",
    "            clusters[curr_cluster]['points'].append(curr_x)\n",
    "        return clusters\n"
   ]
  },
  {
   "cell_type": "code",
   "execution_count": 32,
   "id": "e2168a64",
   "metadata": {},
   "outputs": [],
   "source": [
    "def update_clusters(x,clusters):\n",
    "    for i in range(k):\n",
    "        points = np.array(clusters[i]['points'])\n",
    "        if points.shape[0]>0:\n",
    "            new_center = points.mean(axis = 0)\n",
    "            clusters[i]['center']= new_center\n",
    "            clusters[i]['points'] = []\n",
    "        return clusters"
   ]
  },
  {
   "cell_type": "code",
   "execution_count": 33,
   "id": "edf844ec",
   "metadata": {},
   "outputs": [],
   "source": [
    "def pred_cluster(x,clusters):\n",
    "    pred = []\n",
    "    for i in range(x.shape[0]):\n",
    "        dist = []\n",
    "        for j in range(k):\n",
    "            dist.append(distance(x[i],clusters[j]['center']))\n",
    "        pred.append(np.argmin(dist))\n",
    "    return pred\n"
   ]
  },
  {
   "cell_type": "code",
   "execution_count": 34,
   "id": "f78db8a5",
   "metadata": {},
   "outputs": [],
   "source": [
    "clusters = assign_clusters(x,clusters)\n",
    "clusters = update_clusters(x,clusters)\n",
    "pred = pred_cluster(x,clusters)"
   ]
  },
  {
   "cell_type": "code",
   "execution_count": 38,
   "id": "cd573223",
   "metadata": {},
   "outputs": [
    {
     "data": {
      "image/png": "[encoded data removed]",
      "text/plain": [
       "<Figure size 640x480 with 1 Axes>"
      ]
     },
     "metadata": {},
     "output_type": "display_data"
    }
   ],
   "source": [
    "plt.scatter(x[:,0], x[:,1], c = pred)\n",
    "for i in clusters:\n",
    "    center = clusters[i]['center']\n",
    "    plt.scatter(center[0], center[1], marker = '*', c = 'red')\n",
    "plt.show()"
   ]
  },
  {
   "cell_type": "code",
   "execution_count": null,
   "id": "ffc9b85f",
   "metadata": {},
   "outputs": [],
   "source": []
  }
 ],
 "metadata": {
  "kernelspec": {
   "display_name": "Python 3 (ipykernel)",
   "language": "python",
   "name": "python3"
  },
  "language_info": {
   "codemirror_mode": {
    "name": "ipython",
    "version": 3
   },
   "file_extension": ".py",
   "mimetype": "text/x-python",
   "name": "python",
   "nbconvert_exporter": "python",
   "pygments_lexer": "ipython3",
   "version": "3.11.2"
  }
 },
 "nbformat": 4,
 "nbformat_minor": 5
}
